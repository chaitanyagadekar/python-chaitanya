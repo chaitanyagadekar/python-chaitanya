{
  "nbformat": 4,
  "nbformat_minor": 0,
  "metadata": {
    "colab": {
      "provenance": []
    },
    "kernelspec": {
      "name": "python3",
      "display_name": "Python 3"
    },
    "language_info": {
      "name": "python"
    }
  },
  "cells": [
    {
      "cell_type": "code",
      "execution_count": 2,
      "metadata": {
        "colab": {
          "base_uri": "https://localhost:8080/"
        },
        "id": "a96mg0rkq2O4",
        "outputId": "baee4611-84df-4de4-df88-9b2350eb510e"
      },
      "outputs": [
        {
          "output_type": "stream",
          "name": "stdout",
          "text": [
            "hellow \n"
          ]
        }
      ],
      "source": [
        "print(\"hellow \")"
      ]
    },
    {
      "cell_type": "code",
      "source": [
        "print(\"chaitanya\")"
      ],
      "metadata": {
        "colab": {
          "base_uri": "https://localhost:8080/"
        },
        "id": "FyUXYhN_ricV",
        "outputId": "34063708-6ddf-45dc-b1c8-6380c62955c1"
      },
      "execution_count": 3,
      "outputs": [
        {
          "output_type": "stream",
          "name": "stdout",
          "text": [
            "chaitanya\n"
          ]
        }
      ]
    }
  ]
}